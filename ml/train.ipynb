{
 "cells": [
  {
   "cell_type": "code",
   "execution_count": 1,
   "id": "42406072-d202-4748-a6ad-d13590e9a19f",
   "metadata": {},
   "outputs": [
    {
     "name": "stderr",
     "output_type": "stream",
     "text": [
      "2025/06/22 15:52:47 INFO mlflow.tracking.fluent: Experiment with name 'fraud_detection' does not exist. Creating a new experiment.\n",
      "2025/06/22 15:52:47 WARNING mlflow.models.model: `artifact_path` is deprecated. Please use `name` instead.\n",
      "\u001b[31m2025/06/22 15:52:50 WARNING mlflow.models.model: Model logged without a signature and input example. Please set `input_example` parameter when logging the model to auto infer the model signature.\u001b[0m\n"
     ]
    },
    {
     "name": "stdout",
     "output_type": "stream",
     "text": [
      "Accuracy: 0.5\n"
     ]
    }
   ],
   "source": [
    "import pandas as pd\n",
    "import mlflow\n",
    "import mlflow.sklearn\n",
    "from sklearn.ensemble import RandomForestClassifier\n",
    "from sklearn.model_selection import train_test_split\n",
    "from sklearn.metrics import accuracy_score\n",
    "\n",
    "# Simüle veri\n",
    "df = pd.DataFrame({\n",
    "    \"user_age\": [22, 45, 36, 29, 52, 40],\n",
    "    \"country\": [\"TR\", \"DE\", \"FR\", \"US\", \"UK\", \"TR\"],\n",
    "    \"is_fraud\": [0, 1, 0, 0, 1, 0]\n",
    "})\n",
    "\n",
    "# Country -> one-hot encoding\n",
    "df = pd.get_dummies(df, columns=[\"country\"])\n",
    "\n",
    "X = df.drop(\"is_fraud\", axis=1)\n",
    "y = df[\"is_fraud\"]\n",
    "\n",
    "X_train, X_test, y_train, y_test = train_test_split(X, y, test_size=0.2, random_state=42)\n",
    "\n",
    "# MLflow deneyi başlat\n",
    "mlflow.set_experiment(\"fraud_detection\")\n",
    "\n",
    "with mlflow.start_run():\n",
    "    model = RandomForestClassifier(n_estimators=100, random_state=42)\n",
    "    model.fit(X_train, y_train)\n",
    "\n",
    "    preds = model.predict(X_test)\n",
    "    acc = accuracy_score(y_test, preds)\n",
    "\n",
    "    mlflow.log_metric(\"accuracy\", acc)\n",
    "    mlflow.sklearn.log_model(model, \"model\")\n",
    "    mlflow.log_params({\n",
    "        \"n_estimators\": 100,\n",
    "        \"model_type\": \"RandomForest\"\n",
    "    })\n",
    "\n",
    "    print(\"Accuracy:\", acc)\n"
   ]
  },
  {
   "cell_type": "code",
   "execution_count": 2,
   "id": "860f338b-a0f2-484c-80c6-835bdc85071f",
   "metadata": {},
   "outputs": [
    {
     "name": "stdout",
     "output_type": "stream",
     "text": [
      "Redis -> {'user_age': '42', 'country': 'TR'}\n"
     ]
    }
   ],
   "source": [
    "import redis\n",
    "\n",
    "# Redis bağlantısı (docker-compose'daki adres ve port)\n",
    "r = redis.Redis(host=\"localhost\", port=6379, decode_responses=True)\n",
    "\n",
    "entity_id = \"123\"\n",
    "features = {\n",
    "    \"user_age\": 42,\n",
    "    \"country\": \"TR\"\n",
    "}\n",
    "\n",
    "# Özellikleri Redis'e yaz\n",
    "r.hset(entity_id, mapping=features)\n",
    "\n",
    "# Doğrulama: Redis'ten oku\n",
    "print(\"Redis ->\", r.hgetall(entity_id))\n"
   ]
  },
  {
   "cell_type": "code",
   "execution_count": null,
   "id": "ec147897-6035-479e-a9a9-9dee1c9935a0",
   "metadata": {},
   "outputs": [],
   "source": []
  }
 ],
 "metadata": {
  "kernelspec": {
   "display_name": "Python 3 (ipykernel)",
   "language": "python",
   "name": "python3"
  },
  "language_info": {
   "codemirror_mode": {
    "name": "ipython",
    "version": 3
   },
   "file_extension": ".py",
   "mimetype": "text/x-python",
   "name": "python",
   "nbconvert_exporter": "python",
   "pygments_lexer": "ipython3",
   "version": "3.11.6"
  }
 },
 "nbformat": 4,
 "nbformat_minor": 5
}
